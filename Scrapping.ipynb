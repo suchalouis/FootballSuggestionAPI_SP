{
 "cells": [
  {
   "attachments": {},
   "cell_type": "markdown",
   "metadata": {},
   "source": [
    "# National Leagues Data"
   ]
  },
  {
   "cell_type": "code",
   "execution_count": 103,
   "metadata": {},
   "outputs": [],
   "source": [
    "import requests\n",
    "from bs4 import BeautifulSoup\n",
    "import pandas as pd\n",
    "\n",
    "from time import sleep\n",
    "from selenium import webdriver\n",
    "from selenium.webdriver.common.keys import Keys\n",
    "import json"
   ]
  },
  {
   "cell_type": "code",
   "execution_count": 104,
   "metadata": {},
   "outputs": [],
   "source": [
    "def url_league(league_name, season):\n",
    "    return f\"https://understat.com/league/{league_name}/{season}\""
   ]
  },
  {
   "cell_type": "code",
   "execution_count": 105,
   "metadata": {},
   "outputs": [],
   "source": [
    "def get_data(league_name, season, i):\n",
    "    # get the url\n",
    "    url=url_league(league_name, season)\n",
    "\n",
    "    # parse the html page\n",
    "    dataLigue1=requests.get(url_league(\"Ligue_1\",\"2017\"), \"html.parser\")\n",
    "    soupLigue1=BeautifulSoup(dataLigue1.text, \"html.parser\")\n",
    "\n",
    "    # get the scripts\n",
    "    scripts=soupLigue1.find_all('script')\n",
    "    strings=scripts[i].string\n",
    "\n",
    "    # Convert as JSON\n",
    "    ind_start = strings.index(\"('\")+2 \n",
    "    ind_end = strings.index(\"')\") \n",
    "    json_data = strings[ind_start:ind_end] \n",
    "    json_data = json_data.encode('utf8').decode('unicode_escape')\n",
    "\n",
    "    # Convert as DataFrame\n",
    "    df=pd.read_json(json_data)\n",
    "\n",
    "    return df"
   ]
  },
  {
   "cell_type": "code",
   "execution_count": null,
   "metadata": {},
   "outputs": [],
   "source": [
    "# save the data\n",
    "df_players = get_data(\"ligue 1\", \"2017\", 2)\n",
    "df_players.to_csv(\"all_player_big_6.csv\")"
   ]
  },
  {
   "attachments": {},
   "cell_type": "markdown",
   "metadata": {},
   "source": [
    "# Scrap wiki"
   ]
  },
  {
   "cell_type": "code",
   "execution_count": 7,
   "metadata": {},
   "outputs": [
    {
     "name": "stderr",
     "output_type": "stream",
     "text": [
      "0it [00:00, ?it/s]\n",
      "TqdmDeprecationWarning: Please use `tqdm.pandas(...)` instead of `tqdm_pandas(tqdm(...))`.\n"
     ]
    }
   ],
   "source": [
    "    import requests\n",
    "    from bs4 import BeautifulSoup\n",
    "    import pandas as pd\n",
    "\n",
    "    from time import sleep\n",
    "    from selenium import webdriver\n",
    "    #from selenium.webdriver.common.keys import Keys\n",
    "    #import json\n",
    "    from tqdm import tqdm, tqdm_pandas\n",
    "    tqdm_pandas(tqdm())\n",
    "    import time \n",
    "    from time import sleep"
   ]
  },
  {
   "cell_type": "code",
   "execution_count": null,
   "metadata": {},
   "outputs": [],
   "source": [
    "#load the data\n",
    "\n",
    "all_player_big_6 = pd.read_csv('all_player_big_6.csv')\n"
   ]
  },
  {
   "cell_type": "code",
   "execution_count": null,
   "metadata": {},
   "outputs": [],
   "source": [
    "# take a dico of the wiki data\n",
    "# return a row with the data\n",
    "def get_out_of_the_dico(dico,player_id):\n",
    "    player_international = None \n",
    "    actual_team = None \n",
    "    number = None \n",
    "    Name = None \n",
    "    mois_de_naissance = None \n",
    "    Nationalite = None \n",
    "    jour_de_naissance = None \n",
    "    anne_de_naissance = None \n",
    "    age_actuel = None \n",
    "    taille_en_m = None \n",
    "    Poste = None \n",
    "    Pied_fort = None \n",
    "    if \"Sélections\" in dico.keys() :\n",
    "        player_international = dico[\"Sélections\"]\n",
    "    if \"Équipe\" in dico.keys():\n",
    "        actual_team = dico[\"Équipe\"]\n",
    "    if \"Numéro\"in dico.keys():\n",
    "        number = dico[\"Numéro\"]\n",
    "    if \"Nom\" in dico.keys():\n",
    "        Name = dico[\"Nom\"]\n",
    "    if \"Nationalité\"in dico.keys():\n",
    "        Nationalite = dico[\"Nationalité\"]\n",
    "    if \"Naissance\" in dico.keys():\n",
    "        mois_de_naissance = dico[\"Naissance\"].split()[1]\n",
    "        jour_de_naissance = dico[\"Naissance\"].split()[0]\n",
    "        anne_de_naissance = dico[\"Naissance\"].split()[2]\n",
    "        age_actuel = dico[\"Naissance\"].split()[3][1:]\n",
    "    if \"Taille\" in dico.keys():\n",
    "        taille_en_m = dico[\"Taille\"].split()[0]\n",
    "    if \"Poste\" in dico.keys():\n",
    "        Poste = dico['Poste']\n",
    "    if \"Pied fort\" in dico.keys():\n",
    "        Pied_fort = dico['Pied fort']\n",
    "    return player_international, actual_team,number,Name,Nationalite,mois_de_naissance,jour_de_naissance,anne_de_naissance,age_actuel,taille_en_m,Poste,Pied_fort,player_id"
   ]
  },
  {
   "cell_type": "code",
   "execution_count": null,
   "metadata": {},
   "outputs": [],
   "source": [
    "# get the urlpage\n",
    "# return dico with the data\n",
    "def get_the_data_contains_on_the_page(htmlplayerpage):\n",
    "    stopwords = ['']\n",
    "    dico = {}\n",
    "    dico['Sélections']=False\n",
    "    # get all the data that we want \n",
    "    for item in htmlplayerpage.find(\"table\",{\"class\":\"infobox_v2 noarchive\"}).findAll('tr'):\n",
    "        text_item = item.getText()\n",
    "        if text_item=='\\nSélections en équipe nationale2':\n",
    "            dico['Sélections']=True\n",
    "        elif text_item!=None:\n",
    "            text_item = text_item.split('\\n')\n",
    "            text_item = [word for word in text_item if word not in stopwords]\n",
    "            if len(text_item)==2:\n",
    "                dico[text_item[0]]=text_item[1]\n",
    "    return dico "
   ]
  },
  {
   "cell_type": "code",
   "execution_count": null,
   "metadata": {},
   "outputs": [],
   "source": [
    "# get a  player name\n",
    "# return the data of this player after scarping wiki\n",
    "def get_the_htlm_page_of_a_player(row):\n",
    "    player_name = row[\"player_name\"]\n",
    "    id = row[\"id\"]\n",
    "    player_name_send = player_name\n",
    "    base_url = \"https://fr.wikipedia.org/wiki/\"\n",
    "    player_name = player_name.split()\n",
    "    # get the name looks like what ask wiki \n",
    "    if len(player_name)==2:\n",
    "        url = base_url+ player_name[0]+'_'+player_name[1]\n",
    "    else:\n",
    "        url = base_url+ player_name[0]\n",
    "    # get the url data \n",
    "    request_data =requests.get(url)\n",
    "    htmlplayerpage=BeautifulSoup(request_data.text, \"html.parser\")\n",
    "    # try if that is the good url \n",
    "    try: \n",
    "        htmlplayerpage.find(\"table\",{\"class\":\"infobox_v2 noarchive\"}).findAll('tr')\n",
    "    except:\n",
    "        return None\n",
    "    else:\n",
    "        # work on the data \n",
    "        dico =get_the_data_contains_on_the_page(htmlplayerpage)\n",
    "        data = get_out_of_the_dico(dico,id)\n",
    "        return data\n",
    "    "
   ]
  },
  {
   "cell_type": "code",
   "execution_count": null,
   "metadata": {},
   "outputs": [
    {
     "name": "stderr",
     "output_type": "stream",
     "text": [
      "100%|██████████| 540/540 [01:39<00:00,  5.45it/s]\n"
     ]
    }
   ],
   "source": [
    "data_scrap = all_player_big_6.progress_apply(get_the_htlm_page_of_a_player,axis=1)\n",
    "filtered_list = [x for x in data_scrap if x is not None]"
   ]
  },
  {
   "cell_type": "code",
   "execution_count": 3,
   "metadata": {},
   "outputs": [],
   "source": [
    "# create a df for the new data\n",
    "def new_data(filtered_list,all_player_big_6):\n",
    "    wiki_data= pd.DataFrame(columns=[\"player_international\", \"actual_team\",\"number\",\"Name\",\"Nationalite\",\"mois_de_naissance\",\"jour_de_naissance\",\"anne_de_naissance\",\"age_actuel\",\"taille_en_m\",\"Poste\",\"Pied_fort\",\"id\"])\n",
    "    for i in filtered_list:\n",
    "        wiki_data.loc[len(wiki_data)]=i\n",
    "    final_data_set = wiki_data.merge(all_player_big_6,on= \"id\")\n",
    "    return final_data_set"
   ]
  },
  {
   "cell_type": "code",
   "execution_count": null,
   "metadata": {},
   "outputs": [
    {
     "ename": "NameError",
     "evalue": "name 'final_data_set' is not defined",
     "output_type": "error",
     "traceback": [
      "\u001b[1;31m---------------------------------------------------------------------------\u001b[0m",
      "\u001b[1;31mNameError\u001b[0m                                 Traceback (most recent call last)",
      "Cell \u001b[1;32mIn [5], line 1\u001b[0m\n\u001b[1;32m----> 1\u001b[0m final_data_set\u001b[39m.\u001b[39mto_csv(\u001b[39m\"\u001b[39m\u001b[39mdf_player_wiki.csv\u001b[39m\u001b[39m\"\u001b[39m)\n",
      "\u001b[1;31mNameError\u001b[0m: name 'final_data_set' is not defined"
     ]
    }
   ],
   "source": [
    "# save the new df\n",
    "final_data_set = new_data(filtered_list,all_player_big_6)\n",
    "final_data_set.to_csv(\"df_player_wiki.csv\")"
   ]
  },
  {
   "cell_type": "code",
   "execution_count": null,
   "metadata": {},
   "outputs": [],
   "source": [
    "from selenium import webdriver\n",
    "driver =  webdriver.Firefox()"
   ]
  },
  {
   "cell_type": "code",
   "execution_count": null,
   "metadata": {},
   "outputs": [],
   "source": [
    "driver.get(\"https://www.fifaindex.com/\")"
   ]
  },
  {
   "attachments": {},
   "cell_type": "markdown",
   "metadata": {},
   "source": [
    "# Scrap index fifa"
   ]
  },
  {
   "cell_type": "code",
   "execution_count": null,
   "metadata": {},
   "outputs": [],
   "source": [
    "#get url player page\n",
    "#return dico with all the data\n",
    "def return_a_dico_with_all_the_data(url_player):\n",
    "    dico = {}\n",
    "    request_data =requests.get(url_player)\n",
    "    htmlplayerpage=BeautifulSoup(request_data.text, \"html.parser\")\n",
    "    # get all the data we interst of \n",
    "    for item in htmlplayerpage.find(\"div\",{\"class\":\"masonry\"}).findAll('p'):\n",
    "        text_item = item.getText()\n",
    "        if text_item!=None:\n",
    "            text_item = text_item.split()\n",
    "            if len(text_item)==2:\n",
    "                dico[text_item[0]]=text_item[1]\n",
    "    return dico"
   ]
  },
  {
   "cell_type": "code",
   "execution_count": null,
   "metadata": {},
   "outputs": [],
   "source": [
    "#player name and bool if this is the first time\n",
    "#Return player name for the scaping\n",
    "def get_correct_player_name_for_selenium(player_name_df,first):\n",
    "    player_name_df_splip = player_name_df.split()\n",
    "    if len(player_name_df_splip)>=1 and first==True:\n",
    "        if len(player_name_df_splip)==2:\n",
    "            return player_name_df\n",
    "        else:\n",
    "            return player_name_df_splip[-1]\n",
    "    else:\n",
    "        return player_name_df_splip[-1]"
   ]
  },
  {
   "cell_type": "code",
   "execution_count": null,
   "metadata": {},
   "outputs": [],
   "source": [
    "#get a player name\n",
    "# return all the data\n",
    "def get_the_url_player(row):\n",
    "    dico ={}\n",
    "    # get a player like the website ask\n",
    "    player_name = get_correct_player_name_for_selenium(row['player_name'],True)\n",
    "    # find the bar\n",
    "    shearch_bar = driver.find_element('xpath', '//*[@id=\"site-search\"]')\n",
    "    shearch_bar.click()\n",
    "    # rigth a player name \n",
    "    shearch_bar.send_keys(player_name)\n",
    "    sleep(1.1)\n",
    "    # try to get the data \n",
    "    try:\n",
    "        driver.find_element(\"xpath\",'/html/body/header/nav/div/form/span/div/div/div[1]/div')\n",
    "    except:\n",
    "        # try again with a other name \n",
    "        driver.get(\"https://www.fifaindex.com/\")\n",
    "        player_name = get_correct_player_name_for_selenium(row['player_name'],False)\n",
    "        shearch_bar = driver.find_element('xpath', '//*[@id=\"site-search\"]')\n",
    "        shearch_bar.click()\n",
    "        shearch_bar.send_keys(player_name)\n",
    "        sleep(2)\n",
    "        try: \n",
    "            driver.find_element(\"xpath\",'/html/body/header/nav/div/form/span/div/div/div[1]/div')\n",
    "        except:\n",
    "            return None\n",
    "        else:\n",
    "            first_player = driver.find_element(\"xpath\",'/html/body/header/nav/div/form/span/div/div/div[1]/div')\n",
    "            first_player.click()\n",
    "            sleep(0.2)\n",
    "            url_player = driver.current_url\n",
    "            dico = return_a_dico_with_all_the_data(url_player)\n",
    "            dico['id'] = row['id']\n",
    "    else:\n",
    "        # get the url of the player \n",
    "        first_player = driver.find_element(\"xpath\",'/html/body/header/nav/div/form/span/div/div/div[1]/div')\n",
    "        first_player.click()\n",
    "        sleep(0.2)\n",
    "        url_player = driver.current_url\n",
    "        dico = return_a_dico_with_all_the_data(url_player)\n",
    "    return dico \n"
   ]
  },
  {
   "cell_type": "code",
   "execution_count": null,
   "metadata": {},
   "outputs": [],
   "source": [
    "df = pd.read_csv('df_player_wiki_fifa.csv')"
   ]
  },
  {
   "cell_type": "code",
   "execution_count": null,
   "metadata": {},
   "outputs": [
    {
     "name": "stderr",
     "output_type": "stream",
     "text": [
      "72it [08:46,  7.31s/it]\n"
     ]
    }
   ],
   "source": [
    "for index,row in tqdm(df.iterrows()):\n",
    "    if type(row[\"dico_fifa\"])==float:\n",
    "        row[\"dico_fifa\"] = get_the_url_player(row)\n",
    "        df.at[index] = row"
   ]
  },
  {
   "cell_type": "code",
   "execution_count": 148,
   "metadata": {},
   "outputs": [],
   "source": [
    "df.to_csv('df_player_wiki_fifa.csv')"
   ]
  },
  {
   "cell_type": "code",
   "execution_count": 150,
   "metadata": {},
   "outputs": [],
   "source": [
    "df_with_new_col = pd.DataFrame(columns=[\"Dribbling\",\"Marking\",\"Aggression\" ,\"Reactions\" ,\"Interceptions\" ,\"Vision\" ,\"Composure\" ,\"Crossing\" ,\"Acceleration\" ,\"Strength\" ,\"Balance\" ,\"Agility\",\"Penalties\" ,\"Volleys\" ,\"Power\" ,\"Jumping\" ,\"Heading\",\"Curve\",\"Injury\",\"id\",\"Finishing\"])"
   ]
  },
  {
   "cell_type": "code",
   "execution_count": 151,
   "metadata": {},
   "outputs": [],
   "source": [
    "# get a dico \n",
    "# return the data \n",
    "def get_out_of_the_dico(dico,player_id):\n",
    "    if type(dico)!= float: \n",
    "        try:\n",
    "            ast.literal_eval(str(dico))\n",
    "        except:\n",
    "            return None\n",
    "        else:\n",
    "            dico = ast.literal_eval(str(dico))\n",
    "            Dribbling = None \n",
    "            Marking = None \n",
    "            Aggression = None \n",
    "            Reactions = None \n",
    "            Interceptions = None \n",
    "            Vision = None \n",
    "            Composure = None \n",
    "            Crossing = None \n",
    "            Acceleration = None \n",
    "            Strength = None \n",
    "            Balance = None \n",
    "            Agility = None\n",
    "            Penalties = None \n",
    "            Volleys = None \n",
    "            Power = None \n",
    "            Jumping = None \n",
    "            Heading = None \n",
    "            Curve = None\n",
    "            Injury = None \n",
    "            Finishing = None\n",
    "            if \"Dribbling\" in dico.keys() :\n",
    "                Dribbling = dico[\"Dribbling\"]\n",
    "            if \"Marking\" in dico.keys():\n",
    "                Marking = dico[\"Marking\"]\n",
    "            if \"Aggression\"in dico.keys():\n",
    "                Aggression = dico[\"Aggression\"]\n",
    "            if \"Reactions\" in dico.keys():\n",
    "                Reactions = dico[\"Reactions\"]\n",
    "            if \"Interceptions\"in dico.keys():\n",
    "                Interceptions = dico[\"Interceptions\"]\n",
    "            if \"Vision\" in dico.keys():\n",
    "                Vision = dico[\"Vision\"]\n",
    "            if \"Composure\" in dico.keys():\n",
    "                Composure = dico[\"Composure\"].split()[0]\n",
    "            if \"Crossing\" in dico.keys():\n",
    "                Crossing = dico['Crossing']\n",
    "            if \"Acceleration\" in dico.keys():\n",
    "                Acceleration = dico['Acceleration']\n",
    "            if \"Strength\" in dico.keys():\n",
    "                Strength = dico[\"Strength\"].split()[0]\n",
    "            if \"Agility\" in dico.keys():\n",
    "                Agility = dico['Agility']\n",
    "            if \"Penalties\" in dico.keys():\n",
    "                Penalties = dico['Penalties']\n",
    "            if \"Volleys\" in dico.keys():\n",
    "                Volleys = dico[\"Volleys\"].split()[0]\n",
    "            if \"Power\" in dico.keys():\n",
    "                Power = dico['Power']\n",
    "            if \"Jumping\" in dico.keys():\n",
    "                Jumping = dico['Jumping']\n",
    "            if \"Heading\" in dico.keys():\n",
    "                Heading = dico[\"Heading\"].split()[0]\n",
    "            if \"Curve\" in dico.keys():\n",
    "                Curve = dico['Curve']\n",
    "            if \"Injury\" in dico.keys():\n",
    "                Injury = dico['Injury']\n",
    "            if \"Finishing\" in dico.keys():\n",
    "                Finishing = dico['Finishing']\n",
    "            return Dribbling,Marking,Aggression ,Reactions ,Interceptions ,Vision ,Composure ,Crossing ,Acceleration ,Strength ,Balance ,Agility,Penalties ,Volleys ,Power ,Jumping ,Heading,Curve,Injury,player_id,Finishing\n",
    "    return None"
   ]
  },
  {
   "cell_type": "code",
   "execution_count": 152,
   "metadata": {},
   "outputs": [
    {
     "name": "stderr",
     "output_type": "stream",
     "text": [
      "C:\\Users\\regis\\AppData\\Local\\Temp\\ipykernel_13632\\3026797825.py:3: FutureWarning: The default dtype for empty Series will be 'object' instead of 'float64' in a future version. Specify a dtype explicitly to silence this warning.\n",
      "  df_with_new_col.loc[len(df_with_new_col)]= data\n"
     ]
    }
   ],
   "source": [
    "for index,row in df.iterrows():\n",
    "    data = get_out_of_the_dico(row[\"dico_fifa\"],row[\"id\"])\n",
    "    df_with_new_col.loc[len(df_with_new_col)]= data\n",
    "    "
   ]
  },
  {
   "cell_type": "code",
   "execution_count": 154,
   "metadata": {},
   "outputs": [],
   "source": [
    "final_df = df.merge(df_with_new_col,on='id')"
   ]
  },
  {
   "cell_type": "code",
   "execution_count": 157,
   "metadata": {},
   "outputs": [],
   "source": [
    "final_df.to_csv('joueur_ligue_1_stat_2017_prix_et_stat_fifa.csv')"
   ]
  },
  {
   "attachments": {},
   "cell_type": "markdown",
   "metadata": {},
   "source": [
    "# Scrap marquet"
   ]
  },
  {
   "cell_type": "code",
   "execution_count": null,
   "metadata": {},
   "outputs": [],
   "source": [
    "#get the player name\n",
    "#return value\n",
    "def get_the_value(player_name):\n",
    "    #get the name of the player \n",
    "    player_name = get_correct_player_name_for_selenium(row['player_name'],True)\n",
    "    # rigth the name in the shearch_bar\n",
    "    shearch_bar = driver.find_element('xpath', '//*[@id=\"site-search\"]')\n",
    "    shearch_bar.send_keys(player_name)\n",
    "    lunch = driver.find_element('xpath', '//*[@id=\"site-search\"][2]')\n",
    "    # do the reschear \n",
    "    lunch.click()\n",
    "    player_value = driver.find_element('xpath', '/html/body/div[2]/main/div[1]/div[2]/div/div/div[1]/a/div[1]/img')\n",
    "    # get the data \n",
    "    data = player_value.getattribute(\"Text\")\n",
    "    return data"
   ]
  },
  {
   "cell_type": "code",
   "execution_count": null,
   "metadata": {},
   "outputs": [],
   "source": [
    "final_df[\"value_fifa\"]=None\n",
    "final_df[\"value_fifa\"] = final_df[\"value_fifa\"].progress_apply(get_the_value)"
   ]
  },
  {
   "cell_type": "code",
   "execution_count": null,
   "metadata": {},
   "outputs": [],
   "source": [
    "final_df.to_csv('all_data.csv')"
   ]
  }
 ],
 "metadata": {
  "kernelspec": {
   "display_name": "Python 3",
   "language": "python",
   "name": "python3"
  },
  "language_info": {
   "codemirror_mode": {
    "name": "ipython",
    "version": 3
   },
   "file_extension": ".py",
   "mimetype": "text/x-python",
   "name": "python",
   "nbconvert_exporter": "python",
   "pygments_lexer": "ipython3",
   "version": "3.10.7"
  },
  "orig_nbformat": 4,
  "vscode": {
   "interpreter": {
    "hash": "3b7d32af1e689683b59f84af5e00ff8511e054604b74fc1830ce1b819250cf76"
   }
  }
 },
 "nbformat": 4,
 "nbformat_minor": 2
}
